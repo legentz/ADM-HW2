{
 "cells": [
  {
   "cell_type": "markdown",
   "metadata": {},
   "source": [
    "## CRQ2\n",
    "\n",
    "Visualize Taxis movements! NYC is divided in many Taxis zones. For each yellow cab trip we know the zone the Taxi pick up and drop off the users. Let's visualize, on a chropleth map, the number of trips that starts in each zone. Than, do another map to count the races that end up in the single zone. Comment your discoveries. To perform this task we use the library folium. You find some examples of chorophlet maps here and here. The Geojson we use to trace the zones is taxi_zones.json in the Homework's repository."
   ]
  },
  {
   "cell_type": "code",
   "execution_count": 184,
   "metadata": {},
   "outputs": [],
   "source": [
    "''' imports '''\n",
    "import pandas as pd\n",
    "import numpy as np\n",
    "from loader import Loader\n",
    "import folium as folium\n",
    "from IPython.display import HTML\n",
    "\n",
    "\n",
    "''' data paths '''\n",
    "data = {\n",
    "    'jan': {\n",
    "        'path': 'data/yellow_tripdata_2018-01.csv',\n",
    "        'start': '2018-01-01',\n",
    "        'end': '2018-01-31'\n",
    "    },\n",
    "    'feb': {\n",
    "        'path': 'data/yellow_tripdata_2018-02.csv',\n",
    "        'start': '2018-02-01',\n",
    "        'end': '2018-02-28'\n",
    "    },\n",
    "    'mar': {\n",
    "        'path': 'data/yellow_tripdata_2018-03.csv',\n",
    "        'start': '2018-03-01',\n",
    "        'end': '2018-03-31'\n",
    "    },\n",
    "    'apr': {\n",
    "        'path': 'data/yellow_tripdata_2018-04.csv',\n",
    "        'start': '2018-04-01',\n",
    "        'end': '2018-04-30'\n",
    "    },\n",
    "    'may': {\n",
    "        'path': 'data/yellow_tripdata_2018-05.csv',\n",
    "        'start': '2018-05-01',\n",
    "        'end': '2018-05-31'\n",
    "    },\n",
    "    'jun': {\n",
    "        'path': 'data/yellow_tripdata_2018-06.csv',\n",
    "        'start': '2018-06-01',\n",
    "        'end': '2018-06-30'\n",
    "    }\n",
    "}\n",
    "locations = 'data/taxi_zone_lookup.csv'\n",
    "zones = 'data/taxi_zones.json'\n",
    "\n",
    "# map prefs\n",
    "coords = [40.7142700,-74.0059700]\n",
    "zoom = 8\n",
    "\n",
    "# Months to work on\n",
    "MONTHS = [(m, data[m]['path']) for m in data.keys()]"
   ]
  },
  {
   "cell_type": "markdown",
   "metadata": {},
   "source": [
    "This code below could seem messy but it is necessary (could be improved for sure, though) to gather data from chunks.\n",
    "\n",
    "The basic flow could be understood from comments below. The gathered data will be organized per each month, boroughs and days."
   ]
  },
  {
   "cell_type": "code",
   "execution_count": 186,
   "metadata": {},
   "outputs": [],
   "source": [
    "# read data for each month\n",
    "loader = Loader(\n",
    "    csv=MONTHS,\n",
    "    chunksize=100000\n",
    ")\n",
    "\n",
    "# get data from iterator\n",
    "data_iterator = loader.iterate(\n",
    "    usecols=['tpep_pickup_datetime', 'PULocationID', 'DOLocationID'],\n",
    "    parse_dates=['tpep_pickup_datetime'],\n",
    "    date_index='tpep_pickup_datetime'\n",
    ")"
   ]
  },
  {
   "cell_type": "code",
   "execution_count": 187,
   "metadata": {},
   "outputs": [
    {
     "name": "stdout",
     "output_type": "stream",
     "text": [
      "53925242 over 53925735 rows have been processed\n"
     ]
    }
   ],
   "source": [
    "''' processing chunk of data '''\n",
    "# declaring two counters to enhance verbosity\n",
    "tot_rows = 0\n",
    "processed_rows = 0\n",
    "\n",
    "# count will be stored here\n",
    "# and incremented chunk by chunk\n",
    "d_pu_bkp = None\n",
    "d_do_bkp = None\n",
    "\n",
    "# iterate over chunks\n",
    "for month, d in data_iterator:\n",
    "    \n",
    "    # info\n",
    "    tot_rows += len(d.index)\n",
    "    \n",
    "    # strictly related to the considered years\n",
    "    d = d.loc['2017' : '2019']\n",
    "    \n",
    "    # drop any row with missing values\n",
    "    d = d.dropna()\n",
    "    \n",
    "    # group by PULocationID and DOLocationID\n",
    "    d_pu = d.groupby(['PULocationID']).PULocationID.agg('count').to_frame('count')\n",
    "    d_do = d.groupby(['DOLocationID']).DOLocationID.agg('count').to_frame('count')\n",
    "    \n",
    "    # info\n",
    "    processed_rows += len(d.index)\n",
    "    \n",
    "    # concat and save data\n",
    "    d_pu_bkp = pd.concat([d_pu, d_pu_bkp]) if d_pu_bkp is not None else d_pu\n",
    "    d_do_bkp = pd.concat([d_do, d_do_bkp]) if d_do_bkp is not None else d_do\n",
    "    \n",
    "    # re-group and sum() to keep less stuff in memory\n",
    "    d_pu_bkp = d_pu_bkp.groupby(['PULocationID']).sum()\n",
    "    d_do_bkp = d_do_bkp.groupby(['DOLocationID']).sum()\n",
    "\n",
    "# be verbose\n",
    "print(str(processed_rows) + ' over ' + str(tot_rows) + ' rows have been processed')"
   ]
  },
  {
   "cell_type": "markdown",
   "metadata": {},
   "source": [
    "### Data on maps"
   ]
  },
  {
   "cell_type": "code",
   "execution_count": 188,
   "metadata": {},
   "outputs": [],
   "source": [
    "# create map container\n",
    "# the following are adapted from http://comet.lehman.cuny.edu/owen/teaching/datasci/choroplethLab.html\n",
    "pu_locations = folium.Map(location=coords, zoom_start=zoom)\n",
    "do_locations = folium.Map(location=coords, zoom_start=zoom)"
   ]
  },
  {
   "cell_type": "code",
   "execution_count": 189,
   "metadata": {},
   "outputs": [],
   "source": [
    "pu_locations.choropleth(\n",
    "    geo_data=zones,\n",
    "    key_on='feature.properties.LocationID',\n",
    "    legend_name = 'Trip no.',\n",
    "    fill_color='YlGn', fill_opacity=0.8, line_opacity=0.5,\n",
    "    data = d_pu_bkp['count'],\n",
    "    columns = [d_pu_bkp.index, 'count']\n",
    ")\n",
    "\n",
    "# produce .html file\n",
    "folium.LayerControl().add_to(pu_locations)\n",
    "pu_locations.save('pu_locations.html')"
   ]
  },
  {
   "cell_type": "code",
   "execution_count": 190,
   "metadata": {},
   "outputs": [],
   "source": [
    "do_locations.choropleth(\n",
    "    geo_data=zones,\n",
    "    key_on='feature.properties.LocationID',\n",
    "    legend_name = 'Trip no.',\n",
    "    fill_color='YlGn', fill_opacity=0.8, line_opacity=0.5,\n",
    "    data = d_do_bkp['count'],\n",
    "    columns = [d_do_bkp.index, 'count']\n",
    ")\n",
    "\n",
    "# produce .html file\n",
    "folium.LayerControl().add_to(do_locations)\n",
    "do_locations.save('do_locations.html')"
   ]
  },
  {
   "cell_type": "markdown",
   "metadata": {},
   "source": [
    "**Maps are available in HTML format in the repository**\n",
    "\n",
    "It is evident that Manhattan zones are the most commonly pick up/drop off preferred by people. Specifically, the island in front of Manhattan is probably a trendy zone and the hottest. Speaking about drop off zones, the most considered from passengers are the ones at the center of Manhattan and the Great Kills Park in Staten Island where people could spend great time. \n",
    "On the other hand, the hottest pick up zones are (obviously) the JFK airport, Manhattan center and its island and, strangely, a precise residential zones of Staten Island (see the map).\n",
    "\n",
    "For what that concerns Manhattan, it is clear enough that people use taxis a lot since that borough is the pulsing heart of NYC that offers amusement, nightlife and top-notch jobs. Probably, people from more suburban zones own private vehicles to move."
   ]
  },
  {
   "cell_type": "code",
   "execution_count": null,
   "metadata": {},
   "outputs": [],
   "source": []
  }
 ],
 "metadata": {
  "kernelspec": {
   "display_name": "Python 3",
   "language": "python",
   "name": "python3"
  },
  "language_info": {
   "codemirror_mode": {
    "name": "ipython",
    "version": 3
   },
   "file_extension": ".py",
   "mimetype": "text/x-python",
   "name": "python",
   "nbconvert_exporter": "python",
   "pygments_lexer": "ipython3",
   "version": "3.6.6"
  }
 },
 "nbformat": 4,
 "nbformat_minor": 2
}
