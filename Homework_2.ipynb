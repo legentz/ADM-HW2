{
 "cells": [
  {
   "cell_type": "code",
   "execution_count": 2,
   "metadata": {},
   "outputs": [
    {
     "name": "stdout",
     "output_type": "stream",
     "text": [
      "0        4.5\n",
      "1       14.0\n",
      "2        6.0\n",
      "3       33.5\n",
      "4       12.5\n",
      "5        4.5\n",
      "6        9.0\n",
      "7        4.0\n",
      "8        5.5\n",
      "9        5.5\n",
      "10       5.5\n",
      "11      16.5\n",
      "12       5.5\n",
      "13       7.5\n",
      "14      10.0\n",
      "15      19.0\n",
      "16      25.5\n",
      "17       4.5\n",
      "18      35.0\n",
      "19       6.0\n",
      "20      13.0\n",
      "21       9.5\n",
      "22      14.5\n",
      "23      18.0\n",
      "24      12.0\n",
      "25       4.5\n",
      "26      16.0\n",
      "27       4.0\n",
      "28       6.0\n",
      "29       7.5\n",
      "        ... \n",
      "9970     6.5\n",
      "9971    14.0\n",
      "9972     8.0\n",
      "9973    11.5\n",
      "9974    15.0\n",
      "9975    16.0\n",
      "9976    14.5\n",
      "9977    27.0\n",
      "9978     4.0\n",
      "9979    31.5\n",
      "9980     6.0\n",
      "9981     5.5\n",
      "9982     3.0\n",
      "9983     6.5\n",
      "9984     4.5\n",
      "9985    22.0\n",
      "9986     9.5\n",
      "9987    11.0\n",
      "9988    31.5\n",
      "9989     6.0\n",
      "9990     5.5\n",
      "9991     6.5\n",
      "9992    17.5\n",
      "9993     6.5\n",
      "9994    21.0\n",
      "9995    14.5\n",
      "9996     5.0\n",
      "9997     9.5\n",
      "9998    20.0\n",
      "9999     5.5\n",
      "Name: fare_amount, Length: 10000, dtype: float64\n"
     ]
    }
   ],
   "source": [
    "from loader import Loader\n",
    "\n",
    "loader = Loader(csv='./data/yellow_tripdata_2018-01.csv')\n",
    "cols = loader.get_columns()\n",
    "jan_data = loader.iterate(usecols=['fare_amount', 'extra', 'mta_tax'])\n",
    "\n",
    "for d in jan_data:\n",
    "    print(d['fare_amount'])\n",
    "    break"
   ]
  }
 ],
 "metadata": {
  "kernelspec": {
   "display_name": "Python 3",
   "language": "python",
   "name": "python3"
  },
  "language_info": {
   "codemirror_mode": {
    "name": "ipython",
    "version": 3
   },
   "file_extension": ".py",
   "mimetype": "text/x-python",
   "name": "python",
   "nbconvert_exporter": "python",
   "pygments_lexer": "ipython3",
   "version": "3.7.0"
  }
 },
 "nbformat": 4,
 "nbformat_minor": 2
}
