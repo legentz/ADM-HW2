{
 "cells": [
  {
   "cell_type": "markdown",
   "metadata": {},
   "source": [
    "## RQ1"
   ]
  },
  {
   "cell_type": "markdown",
   "metadata": {},
   "source": [
    "In what period of the year Taxis are used more? Create a plot that, for each month, shows the average number of trips recorded each day. Due to the differences among New York zones, we want to visualize the same information for each boroughs. Do you notice any difference among them? Provide comments and plausible explanations about what you observe (e.g.: what is the month with the highest daily average?)."
   ]
  },
  {
   "cell_type": "code",
   "execution_count": 2,
   "metadata": {},
   "outputs": [],
   "source": [
    "''' imports '''\n",
    "import pandas as pd\n",
    "from loader import Loader\n",
    "import matplotlib.pyplot as plt\n",
    "%matplotlib inline\n",
    "\n",
    "''' data paths '''\n",
    "data = {\n",
    "    'jan': 'data/yellow_tripdata_2018-01.csv',\n",
    "    'feb': 'data/yellow_tripdata_2018-02.csv',\n",
    "    'mar': 'data/yellow_tripdata_2018-03.csv',\n",
    "    'apr': 'data/yellow_tripdata_2018-04.csv',\n",
    "    'may': 'data/yellow_tripdata_2018-05.csv',\n",
    "    'jun': 'data/yellow_tripdata_2018-06.csv'\n",
    "}\n",
    "locations = 'data/taxi_zone_lookup.csv'"
   ]
  },
  {
   "cell_type": "markdown",
   "metadata": {},
   "source": [
    "Let's use a Loader class, created ad hoc, to simplify some operations "
   ]
  },
  {
   "cell_type": "code",
   "execution_count": null,
   "metadata": {},
   "outputs": [],
   "source": [
    "# read data for each month\n",
    "# todo: combine all months together\n",
    "loader = Loader(csv=data['jan'], chunksize=100)\n",
    "\n",
    "# preparing locations to be merged on-the-fly when iterating\n",
    "loader.merge(csv=locations, usecols=['LocationID', 'Borough'], on=('PULocationID', 'LocationID'), direction='left', drop_on_columns=True)\n",
    "\n",
    "# get date generator\n",
    "data_iterator = loader.iterate(usecols=['tpep_pickup_datetime', 'tpep_dropoff_datetime', 'passenger_count', 'PULocationID'])\n",
    "\n",
    "# iterate on data\n",
    "for i, df in enumerate(data_iterator):\n",
    "    if i == 10: break\n",
    "    \n",
    "    print(df)"
   ]
  }
 ],
 "metadata": {
  "kernelspec": {
   "display_name": "Python 3",
   "language": "python",
   "name": "python3"
  },
  "language_info": {
   "codemirror_mode": {
    "name": "ipython",
    "version": 3
   },
   "file_extension": ".py",
   "mimetype": "text/x-python",
   "name": "python",
   "nbconvert_exporter": "python",
   "pygments_lexer": "ipython3",
   "version": "3.6.6"
  }
 },
 "nbformat": 4,
 "nbformat_minor": 2
}
