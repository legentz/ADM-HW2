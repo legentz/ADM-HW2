{
 "cells": [
  {
   "cell_type": "markdown",
   "metadata": {},
   "source": [
    "## RQ2"
   ]
  },
  {
   "cell_type": "markdown",
   "metadata": {},
   "source": [
    "What are the time slots with more passengers? Set your own time slots and discover which are those when Taxis drive the highest number of passengers overall New York and repeat the analysis for each borough. Provide the results through a visualization and comment them."
   ]
  },
  {
   "cell_type": "code",
   "execution_count": 1,
   "metadata": {},
   "outputs": [],
   "source": [
    "''' imports '''\n",
    "import pandas as pd\n",
    "import numpy as np\n",
    "from loader import Loader\n",
    "import matplotlib.pyplot as plt\n",
    "%matplotlib inline\n",
    "\n",
    "''' data paths '''\n",
    "data = {\n",
    "    'jan': {\n",
    "        'path': 'data/yellow_tripdata_2018-01.csv',\n",
    "        'start': '2018-01-01',\n",
    "        'end': '2018-01-31'\n",
    "    },\n",
    "    'feb': {\n",
    "        'path': 'data/yellow_tripdata_2018-02.csv',\n",
    "        'start': '2018-02-01',\n",
    "        'end': '2018-02-28'\n",
    "    },\n",
    "    'mar': {\n",
    "        'path': 'data/yellow_tripdata_2018-03.csv',\n",
    "        'start': '2018-03-01',\n",
    "        'end': '2018-03-31'\n",
    "    },\n",
    "    'apr': {\n",
    "        'path': 'data/yellow_tripdata_2018-04.csv',\n",
    "        'start': '2018-04-01',\n",
    "        'end': '2018-04-30'\n",
    "    },\n",
    "    'may': {\n",
    "        'path': 'data/yellow_tripdata_2018-05.csv',\n",
    "        'start': '2018-05-01',\n",
    "        'end': '2018-05-31'\n",
    "    },\n",
    "    'jun': {\n",
    "        'path': 'data/yellow_tripdata_2018-06.csv',\n",
    "        'start': '2018-06-01',\n",
    "        'end': '2018-06-30'\n",
    "    }\n",
    "}\n",
    "locations = 'data/taxi_zone_lookup.csv'\n",
    "\n",
    "# make it dynamic\n",
    "# MONTH = data['jan']\n",
    "MONTHS = [(m, data[m]['path']) for m in data.keys()]"
   ]
  },
  {
   "cell_type": "markdown",
   "metadata": {},
   "source": [
    "Let's use a Loader class, created ad hoc, to simplify some operations"
   ]
  },
  {
   "cell_type": "code",
   "execution_count": 2,
   "metadata": {},
   "outputs": [],
   "source": [
    "# read data for each month\n",
    "# todo: combine all months together\n",
    "loader = Loader(csv=MONTHS, chunksize=100000)\n",
    "\n",
    "# preparing locations to be merged on-the-fly when iterating\n",
    "loader.merge(csv=locations, usecols=['LocationID', 'Borough'], on=('PULocationID', 'LocationID'), direction='left', drop_on_columns=True)\n",
    "\n",
    "# get data generator\n",
    "data_iterator = loader.iterate(usecols=['tpep_pickup_datetime', 'passenger_count', 'PULocationID'], parse_dates=['tpep_pickup_datetime'], date_index='tpep_pickup_datetime')"
   ]
  },
  {
   "cell_type": "code",
   "execution_count": 3,
   "metadata": {},
   "outputs": [
    {
     "name": "stdout",
     "output_type": "stream",
     "text": [
      "{'0:00 0:59': 0, '1:00 1:59': 0, '2:00 2:59': 0, '3:00 3:59': 0, '4:00 4:59': 0, '5:00 5:59': 0, '6:00 6:59': 0, '7:00 7:59': 0, '8:00 8:59': 0, '9:00 9:59': 0, '10:00 10:59': 0, '11:00 11:59': 0, '12:00 12:59': 0, '13:00 13:59': 0, '14:00 14:59': 0, '15:00 15:59': 0, '16:00 16:59': 0, '17:00 17:59': 0, '18:00 18:59': 0, '19:00 19:59': 0, '20:00 20:59': 0, '21:00 21:59': 0, '22:00 22:59': 0, '23:00 23:59': 0}\n"
     ]
    }
   ],
   "source": [
    "# defining hourly time slots (overall)\n",
    "h_slots = {str(x % 24) + ':00 ' + str(x % 24) + ':59': 0 for x in range(24)}\n",
    "\n",
    "# here the borough's stats will be put\n",
    "h_slots_borough = {}\n",
    "\n",
    "print(h_slots)"
   ]
  },
  {
   "cell_type": "code",
   "execution_count": 4,
   "metadata": {},
   "outputs": [
    {
     "name": "stdout",
     "output_type": "stream",
     "text": [
      "53049017 over 53925735 rows have been processed\n"
     ]
    }
   ],
   "source": [
    "''' working with each borough '''\n",
    "# declaring two counters to enhance verbosity\n",
    "tot_rows = 0\n",
    "processed_rows = 0\n",
    "\n",
    "# iterate over chunks\n",
    "for month, d in data_iterator:\n",
    "    \n",
    "    # info\n",
    "    tot_rows += len(d.index)\n",
    "    \n",
    "    # remove older or newer items keeping only the ones\n",
    "    # strictly related to the considered month\n",
    "    d = d.loc[data[month]['start'] : data[month]['end']]\n",
    "    \n",
    "    # drop any row with missing values\n",
    "    d = d.dropna()\n",
    "    \n",
    "    # processing each time span (slot)\n",
    "    for time_span, count in h_slots.items():\n",
    "        h_start, h_end = time_span.split(' ')\n",
    "        \n",
    "        # filter DataFrame by time span\n",
    "        f = d.between_time(h_start, h_end)\n",
    "        \n",
    "        # info\n",
    "        processed_rows += len(f.index)\n",
    "        \n",
    "        # compute and save the sum for this chunk\n",
    "        h_slots[time_span] += f['passenger_count'].sum()\n",
    "        \n",
    "        # borough based sum()\n",
    "        f_grouped = f.groupby('Borough')['passenger_count'].count()\n",
    "        \n",
    "        # save count for each Borough\n",
    "        for borough in f_grouped.keys():\n",
    "            p_count = f_grouped[borough]\n",
    "            \n",
    "            if not borough in h_slots_borough:\n",
    "                h_slots_borough[borough] = p_count\n",
    "            else:\n",
    "                h_slots_borough[borough] += p_count\n",
    "\n",
    "print(str(processed_rows) + ' over ' + str(tot_rows) + ' rows have been processed')"
   ]
  },
  {
   "cell_type": "code",
   "execution_count": 5,
   "metadata": {},
   "outputs": [
    {
     "name": "stdout",
     "output_type": "stream",
     "text": [
      "{'0:00 0:59': 2692896, '1:00 1:59': 1853823, '2:00 2:59': 1326429, '3:00 3:59': 968774, '4:00 4:59': 763653, '5:00 5:59': 798483, '6:00 6:59': 1817041, '7:00 7:59': 3098468, '8:00 8:59': 3871652, '9:00 9:59': 3911072, '10:00 10:59': 3899741, '11:00 11:59': 4073599, '12:00 12:59': 4336652, '13:00 13:59': 4373976, '14:00 14:59': 4592950, '15:00 15:59': 4589373, '16:00 16:59': 4278131, '17:00 17:59': 4865151, '18:00 18:59': 5470188, '19:00 19:59': 5292108, '20:00 20:59': 4787224, '21:00 21:59': 4852798, '22:00 22:59': 4603556, '23:00 23:59': 3751354}\n",
      "{'Bronx': 54789, 'Brooklyn': 671655, 'Manhattan': 48165475, 'Queens': 3302453, 'Unknown': 850044, 'Staten Island': 801, 'EWR': 3800}\n"
     ]
    }
   ],
   "source": [
    "print(h_slots)\n",
    "print(h_slots_borough)"
   ]
  },
  {
   "cell_type": "code",
   "execution_count": 5,
   "metadata": {},
   "outputs": [
    {
     "name": "stdout",
     "output_type": "stream",
     "text": [
      "[('18:00 18:59', 5470188), ('19:00 19:59', 5292108), ('17:00 17:59', 4865151), ('21:00 21:59', 4852798), ('20:00 20:59', 4787224), ('22:00 22:59', 4603556), ('14:00 14:59', 4592950), ('15:00 15:59', 4589373), ('13:00 13:59', 4373976), ('12:00 12:59', 4336652), ('16:00 16:59', 4278131), ('11:00 11:59', 4073599), ('9:00 9:59', 3911072), ('10:00 10:59', 3899741), ('8:00 8:59', 3871652), ('23:00 23:59', 3751354), ('7:00 7:59', 3098468), ('0:00 0:59', 2692896), ('1:00 1:59', 1853823), ('6:00 6:59', 1817041), ('2:00 2:59', 1326429), ('3:00 3:59', 968774), ('5:00 5:59', 798483), ('4:00 4:59', 763653)]\n"
     ]
    }
   ],
   "source": [
    "print(sorted(h_slots.items(), reverse=True, key=lambda kv: kv[1]))"
   ]
  },
  {
   "cell_type": "code",
   "execution_count": 6,
   "metadata": {},
   "outputs": [
    {
     "data": {
      "text/plain": [
       "<matplotlib.axes._subplots.AxesSubplot at 0x7fae06228be0>"
      ]
     },
     "execution_count": 6,
     "metadata": {},
     "output_type": "execute_result"
    },
    {
     "data": {
      "image/png": "[encoded data removed]",
      "text/plain": [
       "<Figure size 1080x360 with 1 Axes>"
      ]
     },
     "metadata": {},
     "output_type": "display_data"
    }
   ],
   "source": [
    "# create a DataFrame to easily be plotted\n",
    "df = pd.DataFrame(list(h_slots.items()), columns=['HHSlots', 'Passengers'], index=list(range(24)))\n",
    "\n",
    "# plotting...\n",
    "figure, axes = plt.subplots(figsize=(15,5))\n",
    "axes.set(xlabel='Time span', ylabel='No. of passengers')\n",
    "\n",
    "# fill the axes X with the right names\n",
    "df.plot.bar(ax=axes)"
   ]
  },
  {
   "cell_type": "code",
   "execution_count": null,
   "metadata": {},
   "outputs": [],
   "source": [
    "# todo: bar chart to show each borough"
   ]
  }
 ],
 "metadata": {
  "kernelspec": {
   "display_name": "Python 3",
   "language": "python",
   "name": "python3"
  },
  "language_info": {
   "codemirror_mode": {
    "name": "ipython",
    "version": 3
   },
   "file_extension": ".py",
   "mimetype": "text/x-python",
   "name": "python",
   "nbconvert_exporter": "python",
   "pygments_lexer": "ipython3",
   "version": "3.6.6"
  }
 },
 "nbformat": 4,
 "nbformat_minor": 2
}
