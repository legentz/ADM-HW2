{
 "cells": [
  {
   "cell_type": "markdown",
   "metadata": {},
   "source": [
    "## RQ5\n",
    "\n",
    "Does a long distance correlate with the duration of the trip on average? Make a plot that show the dependence between distance and duration of the trip. Then compute the Pearson Coefficient, is it significant? Comment the results you obtain."
   ]
  },
  {
   "cell_type": "code",
   "execution_count": null,
   "metadata": {},
   "outputs": [],
   "source": [
    "''' imports '''\n",
    "import pandas as pd\n",
    "import numpy as np\n",
    "from loader import Loader\n",
    "import matplotlib.pyplot as plt\n",
    "%matplotlib notebook\n",
    "\n",
    "''' data paths '''\n",
    "data = {\n",
    "    'jan': {\n",
    "        'path': 'data/yellow_tripdata_2018-01.csv',\n",
    "        'start': '2018-01-01',\n",
    "        'end': '2018-01-31'\n",
    "    },\n",
    "    'feb': {\n",
    "        'path': 'data/yellow_tripdata_2018-02.csv',\n",
    "        'start': '2018-02-01',\n",
    "        'end': '2018-02-28'\n",
    "    },\n",
    "    'mar': {\n",
    "        'path': 'data/yellow_tripdata_2018-03.csv',\n",
    "        'start': '2018-03-01',\n",
    "        'end': '2018-03-31'\n",
    "    },\n",
    "    'apr': {\n",
    "        'path': 'data/yellow_tripdata_2018-04.csv',\n",
    "        'start': '2018-04-01',\n",
    "        'end': '2018-04-30'\n",
    "    },\n",
    "    'may': {\n",
    "        'path': 'data/yellow_tripdata_2018-05.csv',\n",
    "        'start': '2018-05-01',\n",
    "        'end': '2018-05-31'\n",
    "    },\n",
    "    'jun': {\n",
    "        'path': 'data/yellow_tripdata_2018-06.csv',\n",
    "        'start': '2018-06-01',\n",
    "        'end': '2018-06-30'\n",
    "    }\n",
    "}\n",
    "locations = 'data/taxi_zone_lookup.csv'\n",
    "\n",
    "# make it dynamic\n",
    "# MONTH = data['jan']\n",
    "MONTHS = [(m, data[m]['path']) for m in data.keys()]"
   ]
  },
  {
   "cell_type": "code",
   "execution_count": null,
   "metadata": {},
   "outputs": [],
   "source": [
    "# read data for each month\n",
    "loader = Loader(csv=MONTHS, chunksize=10000, nrows=10000)\n",
    "\n",
    "# get data generator\n",
    "data_iterator = loader.iterate(usecols=['trip_duration'])"
   ]
  },
  {
   "cell_type": "code",
   "execution_count": null,
   "metadata": {},
   "outputs": [],
   "source": [
    "''' working with each borough '''\n",
    "# declaring two counters to enhance verbosity\n",
    "tot_rows = 0\n",
    "processed_rows = 0\n",
    "\n",
    "# count will be stored here\n",
    "# and incremented chunk by chunk\n",
    "dg_bkp = {}\n",
    "\n",
    "# iterate over chunks\n",
    "for month, d in data_iterator:\n",
    "    \n",
    "    # info\n",
    "    tot_rows += len(d.index)\n",
    "    \n",
    "    # drop any row with missing values\n",
    "    d = d.dropna()\n",
    "    \n",
    "    # ...\n",
    "    \n",
    "    # info\n",
    "    processed_rows += len(d.index)\n",
    "    \n",
    "    # backing up important values\n",
    "    if not month in dg_bkp: dg_bkp[month] = None\n",
    "    dg_bkp[month] = dg if dg_bkp[month] is None else dg_bkp[month].add(dg, fill_value=0)\n",
    "    \n",
    "print(str(processed_rows) + ' over ' + str(tot_rows) + ' rows have been processed')"
   ]
  }
 ],
 "metadata": {
  "kernelspec": {
   "display_name": "Python 3",
   "language": "python",
   "name": "python3"
  },
  "language_info": {
   "codemirror_mode": {
    "name": "ipython",
    "version": 3
   },
   "file_extension": ".py",
   "mimetype": "text/x-python",
   "name": "python",
   "nbconvert_exporter": "python",
   "pygments_lexer": "ipython3",
   "version": "3.6.6"
  }
 },
 "nbformat": 4,
 "nbformat_minor": 2
}
